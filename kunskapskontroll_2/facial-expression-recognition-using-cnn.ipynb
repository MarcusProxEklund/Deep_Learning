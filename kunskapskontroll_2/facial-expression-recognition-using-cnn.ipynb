{
 "cells": [
  {
   "cell_type": "markdown",
   "id": "f2a6d64d",
   "metadata": {
    "id": "5z8nt9uSJkGr",
    "papermill": {
     "duration": 0.012956,
     "end_time": "2024-04-16T14:19:48.664901",
     "exception": false,
     "start_time": "2024-04-16T14:19:48.651945",
     "status": "completed"
    },
    "tags": []
   },
   "source": [
    "# Facial Expression Recognition Using CNN"
   ]
  },
  {
   "cell_type": "markdown",
   "id": "d28e8b92",
   "metadata": {},
   "source": [
    "Dataset from https://www.kaggle.com/datasets/jonathanoheix/face-expression-recognition-dataset"
   ]
  },
  {
   "cell_type": "markdown",
   "id": "f6665bf0",
   "metadata": {
    "id": "ITK54PhVBAry",
    "papermill": {
     "duration": 0.012109,
     "end_time": "2024-04-16T14:19:48.689461",
     "exception": false,
     "start_time": "2024-04-16T14:19:48.677352",
     "status": "completed"
    },
    "tags": []
   },
   "source": [
    "### **Abstract**\n",
    "\n",
    "Facial Expression Recognition using **Convolutional Neural Network** explores interpreting human emotions from images. This notebook builds and trains a **CNN** to detect 7 different expressions: [Angry, Disgust, Fear, happy, Neutral, Sad, Surprise]. We evaluate its performance and save the model for real-world application together with other models."
   ]
  },
  {
   "cell_type": "markdown",
   "id": "8da7ac74",
   "metadata": {
    "id": "cMRASQYfBhXM",
    "papermill": {
     "duration": 0.01184,
     "end_time": "2024-04-16T14:19:48.713052",
     "exception": false,
     "start_time": "2024-04-16T14:19:48.701212",
     "status": "completed"
    },
    "tags": []
   },
   "source": [
    "### **Imports Libararies**.\n",
    "\n",
    "Imports necessary libraries for building and training a convolutional neural network (CNN) for facial expression recognition."
   ]
  },
  {
   "cell_type": "code",
   "execution_count": 80,
   "id": "036e74a3",
   "metadata": {
    "execution": {
     "iopub.execute_input": "2024-04-16T14:19:48.739220Z",
     "iopub.status.busy": "2024-04-16T14:19:48.738870Z",
     "iopub.status.idle": "2024-04-16T14:20:04.150185Z",
     "shell.execute_reply": "2024-04-16T14:20:04.149319Z"
    },
    "id": "fDYyQlK_iMSL",
    "papermill": {
     "duration": 15.426852,
     "end_time": "2024-04-16T14:20:04.152491",
     "exception": false,
     "start_time": "2024-04-16T14:19:48.725639",
     "status": "completed"
    },
    "tags": []
   },
   "outputs": [],
   "source": [
    "import os\n",
    "import cv2\n",
    "import numpy as np\n",
    "from sklearn.model_selection import train_test_split\n",
    "from sklearn.metrics import confusion_matrix, ConfusionMatrixDisplay\n",
    "from sklearn.preprocessing import LabelEncoder\n",
    "from sklearn.utils.class_weight import compute_class_weight\n",
    "from keras.preprocessing.image import ImageDataGenerator\n",
    "from keras.utils import to_categorical\n",
    "from keras.models import Sequential\n",
    "from keras.layers import Dense, Conv2D, Dropout, BatchNormalization, MaxPooling2D, Flatten\n",
    "from keras.callbacks import ModelCheckpoint, EarlyStopping, ReduceLROnPlateau\n",
    "import matplotlib.pyplot as plt"
   ]
  },
  {
   "cell_type": "code",
   "execution_count": 30,
   "id": "39f4732f",
   "metadata": {
    "execution": {
     "iopub.execute_input": "2024-04-16T14:20:04.203782Z",
     "iopub.status.busy": "2024-04-16T14:20:04.203026Z",
     "iopub.status.idle": "2024-04-16T14:20:04.207403Z",
     "shell.execute_reply": "2024-04-16T14:20:04.206562Z"
    },
    "id": "Q9L2Lx6dib9F",
    "papermill": {
     "duration": 0.020223,
     "end_time": "2024-04-16T14:20:04.209222",
     "exception": false,
     "start_time": "2024-04-16T14:20:04.188999",
     "status": "completed"
    },
    "tags": []
   },
   "outputs": [],
   "source": [
    "# Dataset Directory\n",
    "data_dir = \"images/train\"\n"
   ]
  },
  {
   "cell_type": "code",
   "execution_count": 31,
   "id": "8475d684",
   "metadata": {
    "execution": {
     "iopub.execute_input": "2024-04-16T14:20:04.257373Z",
     "iopub.status.busy": "2024-04-16T14:20:04.257097Z",
     "iopub.status.idle": "2024-04-16T14:20:04.268075Z",
     "shell.execute_reply": "2024-04-16T14:20:04.267434Z"
    },
    "id": "gWafwx62ilRE",
    "papermill": {
     "duration": 0.025416,
     "end_time": "2024-04-16T14:20:04.269881",
     "exception": false,
     "start_time": "2024-04-16T14:20:04.244465",
     "status": "completed"
    },
    "tags": []
   },
   "outputs": [
    {
     "data": {
      "text/plain": [
       "['surprise', 'disgust', 'happy', 'neutral', 'fear', 'sad', 'angry']"
      ]
     },
     "execution_count": 31,
     "metadata": {},
     "output_type": "execute_result"
    }
   ],
   "source": [
    "# Classes\n",
    "sub_folders = os.listdir(data_dir)\n",
    "sub_folders"
   ]
  },
  {
   "cell_type": "code",
   "execution_count": 32,
   "id": "dace849a",
   "metadata": {
    "execution": {
     "iopub.execute_input": "2024-04-16T14:20:04.318477Z",
     "iopub.status.busy": "2024-04-16T14:20:04.318193Z",
     "iopub.status.idle": "2024-04-16T14:20:04.322123Z",
     "shell.execute_reply": "2024-04-16T14:20:04.321329Z"
    },
    "id": "OBRZU_fzisqq",
    "papermill": {
     "duration": 0.018528,
     "end_time": "2024-04-16T14:20:04.324088",
     "exception": false,
     "start_time": "2024-04-16T14:20:04.305560",
     "status": "completed"
    },
    "tags": []
   },
   "outputs": [],
   "source": [
    "# Declaring the lists for images and labels\n",
    "images = []\n",
    "labels = []"
   ]
  },
  {
   "cell_type": "markdown",
   "id": "b17c5c72",
   "metadata": {
    "id": "ueels922DU6a",
    "papermill": {
     "duration": 0.011627,
     "end_time": "2024-04-16T14:20:04.347392",
     "exception": false,
     "start_time": "2024-04-16T14:20:04.335765",
     "status": "completed"
    },
    "tags": []
   },
   "source": [
    "This code snippet iterates through each sub-folder in the `sub_folders` list, representing different classes or labels. It then accesses the images within each sub-folder, reads them using OpenCV, and appends them to the `images` list. Additionally, it appends the corresponding label (the name of the sub-folder) to the `labels` list. We run this twice to artificially increase the dataset. We can do this since we will later transorm the images so we won't get 2 images that look exactly the same."
   ]
  },
  {
   "cell_type": "code",
   "execution_count": 33,
   "id": "601bed4f",
   "metadata": {
    "execution": {
     "iopub.execute_input": "2024-04-16T14:20:04.372493Z",
     "iopub.status.busy": "2024-04-16T14:20:04.372109Z",
     "iopub.status.idle": "2024-04-16T14:23:00.590637Z",
     "shell.execute_reply": "2024-04-16T14:23:00.589577Z"
    },
    "id": "6N7TZ54civYK",
    "papermill": {
     "duration": 176.234161,
     "end_time": "2024-04-16T14:23:00.593319",
     "exception": false,
     "start_time": "2024-04-16T14:20:04.359158",
     "status": "completed"
    },
    "tags": []
   },
   "outputs": [
    {
     "name": "stdout",
     "output_type": "stream",
     "text": [
      "surprise: 3206\n",
      "disgust: 550\n",
      "happy: 7165\n",
      "neutral: 4982\n",
      "fear: 4104\n",
      "sad: 4938\n",
      "angry: 3993\n",
      "surprise: 3206\n",
      "disgust: 550\n",
      "happy: 7165\n",
      "neutral: 4982\n",
      "fear: 4104\n",
      "sad: 4938\n",
      "angry: 3993\n"
     ]
    }
   ],
   "source": [
    "# Accessing the labels\n",
    "for i in range(0, 2):\n",
    "    for sub_folder in sub_folders:\n",
    "        label = sub_folder\n",
    "\n",
    "        # Constructing the path to the current sub-folder\n",
    "        path = os.path.join(data_dir, sub_folder)\n",
    "\n",
    "        # Listing all images in the current sub-folder\n",
    "        sub_folder_images = os.listdir(path)\n",
    "        print(sub_folder + \": \" + str(len(sub_folder_images)))\n",
    "\n",
    "        # Accessing the Images\n",
    "        for image_name in sub_folder_images:\n",
    "            # Constructing the path to the current image\n",
    "            image_path = os.path.join(path, image_name)\n",
    "            # Loading the image using OpenCV\n",
    "            img = cv2.imread(image_path, cv2.IMREAD_GRAYSCALE)  # Read as grayscale\n",
    "            # Appending the image to the list of images\n",
    "            images.append(img)\n",
    "            # Appending the label corresponding to the current sub-folder to the list of labels\n",
    "            labels.append(label)"
   ]
  },
  {
   "cell_type": "markdown",
   "id": "720a50d9",
   "metadata": {
    "id": "FEbz7QjjDkQg",
    "papermill": {
     "duration": 0.011521,
     "end_time": "2024-04-16T14:23:00.617638",
     "exception": false,
     "start_time": "2024-04-16T14:23:00.606117",
     "status": "completed"
    },
    "tags": []
   },
   "source": [
    "The lists of images and labels are converted to NumPy arrays using the `np.array()` function. This conversion is necessary for further processing and compatibility with deep learning frameworks like TensorFlow and Keras."
   ]
  },
  {
   "cell_type": "code",
   "execution_count": 34,
   "id": "f0c0de5d",
   "metadata": {
    "execution": {
     "iopub.execute_input": "2024-04-16T14:23:00.642215Z",
     "iopub.status.busy": "2024-04-16T14:23:00.641924Z",
     "iopub.status.idle": "2024-04-16T14:23:00.702257Z",
     "shell.execute_reply": "2024-04-16T14:23:00.701348Z"
    },
    "id": "t3ehOepji55a",
    "papermill": {
     "duration": 0.075035,
     "end_time": "2024-04-16T14:23:00.704345",
     "exception": false,
     "start_time": "2024-04-16T14:23:00.629310",
     "status": "completed"
    },
    "tags": []
   },
   "outputs": [
    {
     "name": "stdout",
     "output_type": "stream",
     "text": [
      "57876\n"
     ]
    }
   ],
   "source": [
    "# Converting the lists of images and labels to NumPy arrays\n",
    "images = np.array(images)\n",
    "labels = np.array(labels)\n",
    "print(len(images))"
   ]
  },
  {
   "cell_type": "markdown",
   "id": "41e0baf8",
   "metadata": {
    "id": "XWRd7o4aDxIw",
    "papermill": {
     "duration": 0.011668,
     "end_time": "2024-04-16T14:23:00.728111",
     "exception": false,
     "start_time": "2024-04-16T14:23:00.716443",
     "status": "completed"
    },
    "tags": []
   },
   "source": [
    "The dataset is split into training, validation, and test sets using the `train_test_split` function from scikit-learn.\n",
    "\n",
    "- `X_train`, `y_train`: Training images and labels.\n",
    "- `X_val`, `y_val`: Validation images and labels.\n",
    "- `X_test`, `y_test`: Test images and labels.\n",
    "\n",
    "The dataset is split with a test size of 20% and a validation size of 10% of the original dataset. The `random_state` parameter ensures reproducibility of the split."
   ]
  },
  {
   "cell_type": "code",
   "execution_count": 35,
   "id": "79df209b",
   "metadata": {
    "execution": {
     "iopub.execute_input": "2024-04-16T14:23:00.753764Z",
     "iopub.status.busy": "2024-04-16T14:23:00.753120Z",
     "iopub.status.idle": "2024-04-16T14:23:00.811931Z",
     "shell.execute_reply": "2024-04-16T14:23:00.810257Z"
    },
    "id": "3RlIsHBIi9fQ",
    "papermill": {
     "duration": 0.074651,
     "end_time": "2024-04-16T14:23:00.814569",
     "exception": false,
     "start_time": "2024-04-16T14:23:00.739918",
     "status": "completed"
    },
    "tags": []
   },
   "outputs": [],
   "source": [
    "# Splitting Dataset into training, validation, and test sets\n",
    "X_train, X_test, y_train, y_test = train_test_split(\n",
    "    images, labels, test_size=0.2, random_state=42)\n",
    "\n",
    "X_train, X_val, y_train, y_val = train_test_split(\n",
    "    X_train, y_train, test_size=0.2, random_state=42)"
   ]
  },
  {
   "cell_type": "markdown",
   "id": "fa6ebc64",
   "metadata": {
    "id": "pkaWQ0_WD6iH",
    "papermill": {
     "duration": 0.012114,
     "end_time": "2024-04-16T14:23:00.839353",
     "exception": false,
     "start_time": "2024-04-16T14:23:00.827239",
     "status": "completed"
    },
    "tags": []
   },
   "source": [
    "The `preprocessing` function is defined to preprocess the input images before feeding them into the neural network model.\n",
    "\n",
    "- Normalize the pixel values by dividing each pixel by 255.0, which scales the pixel values to the range [0, 1].\n",
    "- Resize the image to a fixed size of 48x48 pixels using OpenCV's `resize` function.\n",
    "- Reshape the image array to match the input shape expected by the neural network model. The shape is `(batch_size, height, width, channels)`, where `batch_size` is set to `-1` to indicate a dynamic batch size, and `channels` is set to 1 for grayscale images."
   ]
  },
  {
   "cell_type": "code",
   "execution_count": 36,
   "id": "111c6c4c",
   "metadata": {
    "execution": {
     "iopub.execute_input": "2024-04-16T14:23:00.864637Z",
     "iopub.status.busy": "2024-04-16T14:23:00.863850Z",
     "iopub.status.idle": "2024-04-16T14:23:00.868661Z",
     "shell.execute_reply": "2024-04-16T14:23:00.867840Z"
    },
    "id": "W-QcvS5EjA8z",
    "papermill": {
     "duration": 0.019212,
     "end_time": "2024-04-16T14:23:00.870532",
     "exception": false,
     "start_time": "2024-04-16T14:23:00.851320",
     "status": "completed"
    },
    "tags": []
   },
   "outputs": [],
   "source": [
    "# Preprocess the image\n",
    "def preprocessing(img):\n",
    "    img = img / 255.0\n",
    "    img = cv2.resize(img, (48, 48))\n",
    "    return img.reshape(-1, 48, 48, 1)  # Reshape to match input shape"
   ]
  },
  {
   "cell_type": "markdown",
   "id": "f74c6f20",
   "metadata": {
    "id": "NHQ6x-hUEKrM",
    "papermill": {
     "duration": 0.011449,
     "end_time": "2024-04-16T14:23:00.893670",
     "exception": false,
     "start_time": "2024-04-16T14:23:00.882221",
     "status": "completed"
    },
    "tags": []
   },
   "source": [
    "The code snippet applies the `preprocessing` function to each image in the training, validation, and test sets using the `map` function, and then converts the resulting list of preprocessed images into NumPy arrays.\n",
    "\n",
    "- `map(preprocessing, X_train)`: Applies the `preprocessing` function to each image in `X_train`.\n",
    "- `list(map(...))`: Converts the map object to a list.\n",
    "- `np.array(...)`: Converts the list of preprocessed images to a NumPy array."
   ]
  },
  {
   "cell_type": "code",
   "execution_count": 37,
   "id": "b5b87d73",
   "metadata": {
    "execution": {
     "iopub.execute_input": "2024-04-16T14:23:00.918178Z",
     "iopub.status.busy": "2024-04-16T14:23:00.917934Z",
     "iopub.status.idle": "2024-04-16T14:23:01.612079Z",
     "shell.execute_reply": "2024-04-16T14:23:01.611308Z"
    },
    "id": "xYlF0AWcFFVD",
    "papermill": {
     "duration": 0.70885,
     "end_time": "2024-04-16T14:23:01.614403",
     "exception": false,
     "start_time": "2024-04-16T14:23:00.905553",
     "status": "completed"
    },
    "tags": []
   },
   "outputs": [],
   "source": [
    "# Apply preprocessing to training, validation, and test sets\n",
    "X_train = np.array(list(map(preprocessing, X_train)))\n",
    "X_val = np.array(list(map(preprocessing, X_val)))\n",
    "X_test = np.array(list(map(preprocessing, X_test)))"
   ]
  },
  {
   "cell_type": "markdown",
   "id": "0e00f319",
   "metadata": {
    "id": "nhlFmsyUFMDy",
    "papermill": {
     "duration": 0.011709,
     "end_time": "2024-04-16T14:23:01.638390",
     "exception": false,
     "start_time": "2024-04-16T14:23:01.626681",
     "status": "completed"
    },
    "tags": []
   },
   "source": [
    "The code reshapes the input data arrays to remove an unnecessary dimension. Since the input shape expected by the neural network model is `(batch_size, height, width, channels)`, where `batch_size` represents the number of samples in each batch, the extra dimension is removed to ensure compatibility with the model architecture.\n",
    "\n",
    "- `reshape(-1, 48, 48, 1)`: Reshapes the input data arrays to have a shape of `(batch_size, 48, 48, 1)`, where `-1` indicates that the batch size is dynamically determined based on the number of samples."
   ]
  },
  {
   "cell_type": "code",
   "execution_count": 38,
   "id": "1911944b",
   "metadata": {
    "execution": {
     "iopub.execute_input": "2024-04-16T14:23:01.703118Z",
     "iopub.status.busy": "2024-04-16T14:23:01.702353Z",
     "iopub.status.idle": "2024-04-16T14:23:01.707325Z",
     "shell.execute_reply": "2024-04-16T14:23:01.706466Z"
    },
    "id": "Mfe4OENojGZM",
    "papermill": {
     "duration": 0.019593,
     "end_time": "2024-04-16T14:23:01.709177",
     "exception": false,
     "start_time": "2024-04-16T14:23:01.689584",
     "status": "completed"
    },
    "tags": []
   },
   "outputs": [],
   "source": [
    "# Reshape input data to remove unnecessary dimension\n",
    "X_train = X_train.reshape(-1, 48, 48, 1)\n",
    "X_val = X_val.reshape(-1, 48, 48, 1)\n",
    "X_test = X_test.reshape(-1, 48, 48, 1)"
   ]
  },
  {
   "cell_type": "markdown",
   "id": "8b1846ec",
   "metadata": {
    "id": "AYvdbcs0Fb_F",
    "papermill": {
     "duration": 0.011564,
     "end_time": "2024-04-16T14:23:01.732407",
     "exception": false,
     "start_time": "2024-04-16T14:23:01.720843",
     "status": "completed"
    },
    "tags": []
   },
   "source": [
    "The `ImageDataGenerator` object is initialized with various data augmentation parameters to augment the training images. Data augmentation is a technique used to artificially increase the size of the training dataset by applying random transformations to the images, which helps improve the model's generalization and robustness.\n",
    "\n",
    "- `width_shift_range`: Randomly shifts the width of the image by a fraction of its width.\n",
    "- `height_shift_range`: Randomly shifts the height of the image by a fraction of its height.\n",
    "- `zoom_range`: Randomly zooms into or out of the image.\n",
    "- `shear_range`: Randomly applies shear transformation to the image.\n",
    "- `rotation_range`: Randomly rotates the image by a specified angle range.\n",
    "\n",
    "The `fit()` method is then called on the `ImageDataGenerator` object to compute statistics necessary for data augmentation based on the training data."
   ]
  },
  {
   "cell_type": "code",
   "execution_count": 39,
   "id": "30fafb0e",
   "metadata": {
    "execution": {
     "iopub.execute_input": "2024-04-16T14:23:01.756921Z",
     "iopub.status.busy": "2024-04-16T14:23:01.756635Z",
     "iopub.status.idle": "2024-04-16T14:23:01.901434Z",
     "shell.execute_reply": "2024-04-16T14:23:01.900450Z"
    },
    "id": "amlCUHiVjMGx",
    "papermill": {
     "duration": 0.15978,
     "end_time": "2024-04-16T14:23:01.903763",
     "exception": false,
     "start_time": "2024-04-16T14:23:01.743983",
     "status": "completed"
    },
    "tags": []
   },
   "outputs": [],
   "source": [
    "# Initialize ImageDataGenerator for data augmentation\n",
    "data_gen = ImageDataGenerator(\n",
    "    width_shift_range=0.1,\n",
    "    height_shift_range=0.1,\n",
    "    zoom_range=0.1,\n",
    "    shear_range=0.1,\n",
    "    rotation_range=20\n",
    ")\n",
    "\n",
    "# Compute necessary statistics for data augmentation\n",
    "data_gen.fit(X_train)"
   ]
  },
  {
   "cell_type": "markdown",
   "id": "e7cbeca2",
   "metadata": {
    "id": "UXPB--KSFqvw",
    "papermill": {
     "duration": 0.011866,
     "end_time": "2024-04-16T14:23:01.927700",
     "exception": false,
     "start_time": "2024-04-16T14:23:01.915834",
     "status": "completed"
    },
    "tags": []
   },
   "source": [
    "The `LabelEncoder` object is initialized to encode the class labels into numerical values. This is necessary because machine learning models typically require numerical inputs. The `fit()` method is then called on the `LabelEncoder` object to fit the encoder to the array of class labels, enabling it to map class labels to numerical values."
   ]
  },
  {
   "cell_type": "code",
   "execution_count": 40,
   "id": "9c02793c",
   "metadata": {
    "execution": {
     "iopub.execute_input": "2024-04-16T14:23:01.952523Z",
     "iopub.status.busy": "2024-04-16T14:23:01.952185Z",
     "iopub.status.idle": "2024-04-16T14:23:01.965579Z",
     "shell.execute_reply": "2024-04-16T14:23:01.964581Z"
    },
    "id": "v-M6Td56jQnI",
    "outputId": "1f276d0c-d8bd-463e-b31b-03e37c060493",
    "papermill": {
     "duration": 0.02823,
     "end_time": "2024-04-16T14:23:01.967688",
     "exception": false,
     "start_time": "2024-04-16T14:23:01.939458",
     "status": "completed"
    },
    "tags": []
   },
   "outputs": [
    {
     "data": {
      "text/html": [
       "<style>#sk-container-id-2 {\n",
       "  /* Definition of color scheme common for light and dark mode */\n",
       "  --sklearn-color-text: black;\n",
       "  --sklearn-color-line: gray;\n",
       "  /* Definition of color scheme for unfitted estimators */\n",
       "  --sklearn-color-unfitted-level-0: #fff5e6;\n",
       "  --sklearn-color-unfitted-level-1: #f6e4d2;\n",
       "  --sklearn-color-unfitted-level-2: #ffe0b3;\n",
       "  --sklearn-color-unfitted-level-3: chocolate;\n",
       "  /* Definition of color scheme for fitted estimators */\n",
       "  --sklearn-color-fitted-level-0: #f0f8ff;\n",
       "  --sklearn-color-fitted-level-1: #d4ebff;\n",
       "  --sklearn-color-fitted-level-2: #b3dbfd;\n",
       "  --sklearn-color-fitted-level-3: cornflowerblue;\n",
       "\n",
       "  /* Specific color for light theme */\n",
       "  --sklearn-color-text-on-default-background: var(--sg-text-color, var(--theme-code-foreground, var(--jp-content-font-color1, black)));\n",
       "  --sklearn-color-background: var(--sg-background-color, var(--theme-background, var(--jp-layout-color0, white)));\n",
       "  --sklearn-color-border-box: var(--sg-text-color, var(--theme-code-foreground, var(--jp-content-font-color1, black)));\n",
       "  --sklearn-color-icon: #696969;\n",
       "\n",
       "  @media (prefers-color-scheme: dark) {\n",
       "    /* Redefinition of color scheme for dark theme */\n",
       "    --sklearn-color-text-on-default-background: var(--sg-text-color, var(--theme-code-foreground, var(--jp-content-font-color1, white)));\n",
       "    --sklearn-color-background: var(--sg-background-color, var(--theme-background, var(--jp-layout-color0, #111)));\n",
       "    --sklearn-color-border-box: var(--sg-text-color, var(--theme-code-foreground, var(--jp-content-font-color1, white)));\n",
       "    --sklearn-color-icon: #878787;\n",
       "  }\n",
       "}\n",
       "\n",
       "#sk-container-id-2 {\n",
       "  color: var(--sklearn-color-text);\n",
       "}\n",
       "\n",
       "#sk-container-id-2 pre {\n",
       "  padding: 0;\n",
       "}\n",
       "\n",
       "#sk-container-id-2 input.sk-hidden--visually {\n",
       "  border: 0;\n",
       "  clip: rect(1px 1px 1px 1px);\n",
       "  clip: rect(1px, 1px, 1px, 1px);\n",
       "  height: 1px;\n",
       "  margin: -1px;\n",
       "  overflow: hidden;\n",
       "  padding: 0;\n",
       "  position: absolute;\n",
       "  width: 1px;\n",
       "}\n",
       "\n",
       "#sk-container-id-2 div.sk-dashed-wrapped {\n",
       "  border: 1px dashed var(--sklearn-color-line);\n",
       "  margin: 0 0.4em 0.5em 0.4em;\n",
       "  box-sizing: border-box;\n",
       "  padding-bottom: 0.4em;\n",
       "  background-color: var(--sklearn-color-background);\n",
       "}\n",
       "\n",
       "#sk-container-id-2 div.sk-container {\n",
       "  /* jupyter's `normalize.less` sets `[hidden] { display: none; }`\n",
       "     but bootstrap.min.css set `[hidden] { display: none !important; }`\n",
       "     so we also need the `!important` here to be able to override the\n",
       "     default hidden behavior on the sphinx rendered scikit-learn.org.\n",
       "     See: https://github.com/scikit-learn/scikit-learn/issues/21755 */\n",
       "  display: inline-block !important;\n",
       "  position: relative;\n",
       "}\n",
       "\n",
       "#sk-container-id-2 div.sk-text-repr-fallback {\n",
       "  display: none;\n",
       "}\n",
       "\n",
       "div.sk-parallel-item,\n",
       "div.sk-serial,\n",
       "div.sk-item {\n",
       "  /* draw centered vertical line to link estimators */\n",
       "  background-image: linear-gradient(var(--sklearn-color-text-on-default-background), var(--sklearn-color-text-on-default-background));\n",
       "  background-size: 2px 100%;\n",
       "  background-repeat: no-repeat;\n",
       "  background-position: center center;\n",
       "}\n",
       "\n",
       "/* Parallel-specific style estimator block */\n",
       "\n",
       "#sk-container-id-2 div.sk-parallel-item::after {\n",
       "  content: \"\";\n",
       "  width: 100%;\n",
       "  border-bottom: 2px solid var(--sklearn-color-text-on-default-background);\n",
       "  flex-grow: 1;\n",
       "}\n",
       "\n",
       "#sk-container-id-2 div.sk-parallel {\n",
       "  display: flex;\n",
       "  align-items: stretch;\n",
       "  justify-content: center;\n",
       "  background-color: var(--sklearn-color-background);\n",
       "  position: relative;\n",
       "}\n",
       "\n",
       "#sk-container-id-2 div.sk-parallel-item {\n",
       "  display: flex;\n",
       "  flex-direction: column;\n",
       "}\n",
       "\n",
       "#sk-container-id-2 div.sk-parallel-item:first-child::after {\n",
       "  align-self: flex-end;\n",
       "  width: 50%;\n",
       "}\n",
       "\n",
       "#sk-container-id-2 div.sk-parallel-item:last-child::after {\n",
       "  align-self: flex-start;\n",
       "  width: 50%;\n",
       "}\n",
       "\n",
       "#sk-container-id-2 div.sk-parallel-item:only-child::after {\n",
       "  width: 0;\n",
       "}\n",
       "\n",
       "/* Serial-specific style estimator block */\n",
       "\n",
       "#sk-container-id-2 div.sk-serial {\n",
       "  display: flex;\n",
       "  flex-direction: column;\n",
       "  align-items: center;\n",
       "  background-color: var(--sklearn-color-background);\n",
       "  padding-right: 1em;\n",
       "  padding-left: 1em;\n",
       "}\n",
       "\n",
       "\n",
       "/* Toggleable style: style used for estimator/Pipeline/ColumnTransformer box that is\n",
       "clickable and can be expanded/collapsed.\n",
       "- Pipeline and ColumnTransformer use this feature and define the default style\n",
       "- Estimators will overwrite some part of the style using the `sk-estimator` class\n",
       "*/\n",
       "\n",
       "/* Pipeline and ColumnTransformer style (default) */\n",
       "\n",
       "#sk-container-id-2 div.sk-toggleable {\n",
       "  /* Default theme specific background. It is overwritten whether we have a\n",
       "  specific estimator or a Pipeline/ColumnTransformer */\n",
       "  background-color: var(--sklearn-color-background);\n",
       "}\n",
       "\n",
       "/* Toggleable label */\n",
       "#sk-container-id-2 label.sk-toggleable__label {\n",
       "  cursor: pointer;\n",
       "  display: block;\n",
       "  width: 100%;\n",
       "  margin-bottom: 0;\n",
       "  padding: 0.5em;\n",
       "  box-sizing: border-box;\n",
       "  text-align: center;\n",
       "}\n",
       "\n",
       "#sk-container-id-2 label.sk-toggleable__label-arrow:before {\n",
       "  /* Arrow on the left of the label */\n",
       "  content: \"▸\";\n",
       "  float: left;\n",
       "  margin-right: 0.25em;\n",
       "  color: var(--sklearn-color-icon);\n",
       "}\n",
       "\n",
       "#sk-container-id-2 label.sk-toggleable__label-arrow:hover:before {\n",
       "  color: var(--sklearn-color-text);\n",
       "}\n",
       "\n",
       "/* Toggleable content - dropdown */\n",
       "\n",
       "#sk-container-id-2 div.sk-toggleable__content {\n",
       "  max-height: 0;\n",
       "  max-width: 0;\n",
       "  overflow: hidden;\n",
       "  text-align: left;\n",
       "  /* unfitted */\n",
       "  background-color: var(--sklearn-color-unfitted-level-0);\n",
       "}\n",
       "\n",
       "#sk-container-id-2 div.sk-toggleable__content.fitted {\n",
       "  /* fitted */\n",
       "  background-color: var(--sklearn-color-fitted-level-0);\n",
       "}\n",
       "\n",
       "#sk-container-id-2 div.sk-toggleable__content pre {\n",
       "  margin: 0.2em;\n",
       "  border-radius: 0.25em;\n",
       "  color: var(--sklearn-color-text);\n",
       "  /* unfitted */\n",
       "  background-color: var(--sklearn-color-unfitted-level-0);\n",
       "}\n",
       "\n",
       "#sk-container-id-2 div.sk-toggleable__content.fitted pre {\n",
       "  /* unfitted */\n",
       "  background-color: var(--sklearn-color-fitted-level-0);\n",
       "}\n",
       "\n",
       "#sk-container-id-2 input.sk-toggleable__control:checked~div.sk-toggleable__content {\n",
       "  /* Expand drop-down */\n",
       "  max-height: 200px;\n",
       "  max-width: 100%;\n",
       "  overflow: auto;\n",
       "}\n",
       "\n",
       "#sk-container-id-2 input.sk-toggleable__control:checked~label.sk-toggleable__label-arrow:before {\n",
       "  content: \"▾\";\n",
       "}\n",
       "\n",
       "/* Pipeline/ColumnTransformer-specific style */\n",
       "\n",
       "#sk-container-id-2 div.sk-label input.sk-toggleable__control:checked~label.sk-toggleable__label {\n",
       "  color: var(--sklearn-color-text);\n",
       "  background-color: var(--sklearn-color-unfitted-level-2);\n",
       "}\n",
       "\n",
       "#sk-container-id-2 div.sk-label.fitted input.sk-toggleable__control:checked~label.sk-toggleable__label {\n",
       "  background-color: var(--sklearn-color-fitted-level-2);\n",
       "}\n",
       "\n",
       "/* Estimator-specific style */\n",
       "\n",
       "/* Colorize estimator box */\n",
       "#sk-container-id-2 div.sk-estimator input.sk-toggleable__control:checked~label.sk-toggleable__label {\n",
       "  /* unfitted */\n",
       "  background-color: var(--sklearn-color-unfitted-level-2);\n",
       "}\n",
       "\n",
       "#sk-container-id-2 div.sk-estimator.fitted input.sk-toggleable__control:checked~label.sk-toggleable__label {\n",
       "  /* fitted */\n",
       "  background-color: var(--sklearn-color-fitted-level-2);\n",
       "}\n",
       "\n",
       "#sk-container-id-2 div.sk-label label.sk-toggleable__label,\n",
       "#sk-container-id-2 div.sk-label label {\n",
       "  /* The background is the default theme color */\n",
       "  color: var(--sklearn-color-text-on-default-background);\n",
       "}\n",
       "\n",
       "/* On hover, darken the color of the background */\n",
       "#sk-container-id-2 div.sk-label:hover label.sk-toggleable__label {\n",
       "  color: var(--sklearn-color-text);\n",
       "  background-color: var(--sklearn-color-unfitted-level-2);\n",
       "}\n",
       "\n",
       "/* Label box, darken color on hover, fitted */\n",
       "#sk-container-id-2 div.sk-label.fitted:hover label.sk-toggleable__label.fitted {\n",
       "  color: var(--sklearn-color-text);\n",
       "  background-color: var(--sklearn-color-fitted-level-2);\n",
       "}\n",
       "\n",
       "/* Estimator label */\n",
       "\n",
       "#sk-container-id-2 div.sk-label label {\n",
       "  font-family: monospace;\n",
       "  font-weight: bold;\n",
       "  display: inline-block;\n",
       "  line-height: 1.2em;\n",
       "}\n",
       "\n",
       "#sk-container-id-2 div.sk-label-container {\n",
       "  text-align: center;\n",
       "}\n",
       "\n",
       "/* Estimator-specific */\n",
       "#sk-container-id-2 div.sk-estimator {\n",
       "  font-family: monospace;\n",
       "  border: 1px dotted var(--sklearn-color-border-box);\n",
       "  border-radius: 0.25em;\n",
       "  box-sizing: border-box;\n",
       "  margin-bottom: 0.5em;\n",
       "  /* unfitted */\n",
       "  background-color: var(--sklearn-color-unfitted-level-0);\n",
       "}\n",
       "\n",
       "#sk-container-id-2 div.sk-estimator.fitted {\n",
       "  /* fitted */\n",
       "  background-color: var(--sklearn-color-fitted-level-0);\n",
       "}\n",
       "\n",
       "/* on hover */\n",
       "#sk-container-id-2 div.sk-estimator:hover {\n",
       "  /* unfitted */\n",
       "  background-color: var(--sklearn-color-unfitted-level-2);\n",
       "}\n",
       "\n",
       "#sk-container-id-2 div.sk-estimator.fitted:hover {\n",
       "  /* fitted */\n",
       "  background-color: var(--sklearn-color-fitted-level-2);\n",
       "}\n",
       "\n",
       "/* Specification for estimator info (e.g. \"i\" and \"?\") */\n",
       "\n",
       "/* Common style for \"i\" and \"?\" */\n",
       "\n",
       ".sk-estimator-doc-link,\n",
       "a:link.sk-estimator-doc-link,\n",
       "a:visited.sk-estimator-doc-link {\n",
       "  float: right;\n",
       "  font-size: smaller;\n",
       "  line-height: 1em;\n",
       "  font-family: monospace;\n",
       "  background-color: var(--sklearn-color-background);\n",
       "  border-radius: 1em;\n",
       "  height: 1em;\n",
       "  width: 1em;\n",
       "  text-decoration: none !important;\n",
       "  margin-left: 1ex;\n",
       "  /* unfitted */\n",
       "  border: var(--sklearn-color-unfitted-level-1) 1pt solid;\n",
       "  color: var(--sklearn-color-unfitted-level-1);\n",
       "}\n",
       "\n",
       ".sk-estimator-doc-link.fitted,\n",
       "a:link.sk-estimator-doc-link.fitted,\n",
       "a:visited.sk-estimator-doc-link.fitted {\n",
       "  /* fitted */\n",
       "  border: var(--sklearn-color-fitted-level-1) 1pt solid;\n",
       "  color: var(--sklearn-color-fitted-level-1);\n",
       "}\n",
       "\n",
       "/* On hover */\n",
       "div.sk-estimator:hover .sk-estimator-doc-link:hover,\n",
       ".sk-estimator-doc-link:hover,\n",
       "div.sk-label-container:hover .sk-estimator-doc-link:hover,\n",
       ".sk-estimator-doc-link:hover {\n",
       "  /* unfitted */\n",
       "  background-color: var(--sklearn-color-unfitted-level-3);\n",
       "  color: var(--sklearn-color-background);\n",
       "  text-decoration: none;\n",
       "}\n",
       "\n",
       "div.sk-estimator.fitted:hover .sk-estimator-doc-link.fitted:hover,\n",
       ".sk-estimator-doc-link.fitted:hover,\n",
       "div.sk-label-container:hover .sk-estimator-doc-link.fitted:hover,\n",
       ".sk-estimator-doc-link.fitted:hover {\n",
       "  /* fitted */\n",
       "  background-color: var(--sklearn-color-fitted-level-3);\n",
       "  color: var(--sklearn-color-background);\n",
       "  text-decoration: none;\n",
       "}\n",
       "\n",
       "/* Span, style for the box shown on hovering the info icon */\n",
       ".sk-estimator-doc-link span {\n",
       "  display: none;\n",
       "  z-index: 9999;\n",
       "  position: relative;\n",
       "  font-weight: normal;\n",
       "  right: .2ex;\n",
       "  padding: .5ex;\n",
       "  margin: .5ex;\n",
       "  width: min-content;\n",
       "  min-width: 20ex;\n",
       "  max-width: 50ex;\n",
       "  color: var(--sklearn-color-text);\n",
       "  box-shadow: 2pt 2pt 4pt #999;\n",
       "  /* unfitted */\n",
       "  background: var(--sklearn-color-unfitted-level-0);\n",
       "  border: .5pt solid var(--sklearn-color-unfitted-level-3);\n",
       "}\n",
       "\n",
       ".sk-estimator-doc-link.fitted span {\n",
       "  /* fitted */\n",
       "  background: var(--sklearn-color-fitted-level-0);\n",
       "  border: var(--sklearn-color-fitted-level-3);\n",
       "}\n",
       "\n",
       ".sk-estimator-doc-link:hover span {\n",
       "  display: block;\n",
       "}\n",
       "\n",
       "/* \"?\"-specific style due to the `<a>` HTML tag */\n",
       "\n",
       "#sk-container-id-2 a.estimator_doc_link {\n",
       "  float: right;\n",
       "  font-size: 1rem;\n",
       "  line-height: 1em;\n",
       "  font-family: monospace;\n",
       "  background-color: var(--sklearn-color-background);\n",
       "  border-radius: 1rem;\n",
       "  height: 1rem;\n",
       "  width: 1rem;\n",
       "  text-decoration: none;\n",
       "  /* unfitted */\n",
       "  color: var(--sklearn-color-unfitted-level-1);\n",
       "  border: var(--sklearn-color-unfitted-level-1) 1pt solid;\n",
       "}\n",
       "\n",
       "#sk-container-id-2 a.estimator_doc_link.fitted {\n",
       "  /* fitted */\n",
       "  border: var(--sklearn-color-fitted-level-1) 1pt solid;\n",
       "  color: var(--sklearn-color-fitted-level-1);\n",
       "}\n",
       "\n",
       "/* On hover */\n",
       "#sk-container-id-2 a.estimator_doc_link:hover {\n",
       "  /* unfitted */\n",
       "  background-color: var(--sklearn-color-unfitted-level-3);\n",
       "  color: var(--sklearn-color-background);\n",
       "  text-decoration: none;\n",
       "}\n",
       "\n",
       "#sk-container-id-2 a.estimator_doc_link.fitted:hover {\n",
       "  /* fitted */\n",
       "  background-color: var(--sklearn-color-fitted-level-3);\n",
       "}\n",
       "</style><div id=\"sk-container-id-2\" class=\"sk-top-container\"><div class=\"sk-text-repr-fallback\"><pre>LabelEncoder()</pre><b>In a Jupyter environment, please rerun this cell to show the HTML representation or trust the notebook. <br />On GitHub, the HTML representation is unable to render, please try loading this page with nbviewer.org.</b></div><div class=\"sk-container\" hidden><div class=\"sk-item\"><div class=\"sk-estimator fitted sk-toggleable\"><input class=\"sk-toggleable__control sk-hidden--visually\" id=\"sk-estimator-id-2\" type=\"checkbox\" checked><label for=\"sk-estimator-id-2\" class=\"sk-toggleable__label fitted sk-toggleable__label-arrow fitted\">&nbsp;&nbsp;LabelEncoder<a class=\"sk-estimator-doc-link fitted\" rel=\"noreferrer\" target=\"_blank\" href=\"https://scikit-learn.org/1.4/modules/generated/sklearn.preprocessing.LabelEncoder.html\">?<span>Documentation for LabelEncoder</span></a><span class=\"sk-estimator-doc-link fitted\">i<span>Fitted</span></span></label><div class=\"sk-toggleable__content fitted\"><pre>LabelEncoder()</pre></div> </div></div></div></div>"
      ],
      "text/plain": [
       "LabelEncoder()"
      ]
     },
     "execution_count": 40,
     "metadata": {},
     "output_type": "execute_result"
    }
   ],
   "source": [
    "# Encode the class labels\n",
    "label_encoder = LabelEncoder()\n",
    "label_encoder.fit(labels)"
   ]
  },
  {
   "cell_type": "markdown",
   "id": "62359bd4",
   "metadata": {
    "id": "ruMxfBiSF33b",
    "papermill": {
     "duration": 0.013796,
     "end_time": "2024-04-16T14:23:01.995561",
     "exception": false,
     "start_time": "2024-04-16T14:23:01.981765",
     "status": "completed"
    },
    "tags": []
   },
   "source": [
    "The class labels for the training, validation, and test sets are encoded using the `transform()` method of the `LabelEncoder` object initialized earlier. This method maps the class labels to their corresponding numerical values as determined during the fitting process."
   ]
  },
  {
   "cell_type": "code",
   "execution_count": 41,
   "id": "cd26eaa9",
   "metadata": {
    "execution": {
     "iopub.execute_input": "2024-04-16T14:23:02.023265Z",
     "iopub.status.busy": "2024-04-16T14:23:02.022867Z",
     "iopub.status.idle": "2024-04-16T14:23:02.047419Z",
     "shell.execute_reply": "2024-04-16T14:23:02.046596Z"
    },
    "id": "5-hx7_s8jTZb",
    "papermill": {
     "duration": 0.040315,
     "end_time": "2024-04-16T14:23:02.049328",
     "exception": false,
     "start_time": "2024-04-16T14:23:02.009013",
     "status": "completed"
    },
    "tags": []
   },
   "outputs": [],
   "source": [
    "# Encode the class labels for training, validation, and test sets\n",
    "y_train = label_encoder.transform(y_train)\n",
    "y_val = label_encoder.transform(y_val)\n",
    "y_test = label_encoder.transform(y_test)"
   ]
  },
  {
   "cell_type": "markdown",
   "id": "68a31c6d",
   "metadata": {
    "id": "7gVmDiaoGHLh",
    "papermill": {
     "duration": 0.012376,
     "end_time": "2024-04-16T14:23:02.073518",
     "exception": false,
     "start_time": "2024-04-16T14:23:02.061142",
     "status": "completed"
    },
    "tags": []
   },
   "source": [
    "The variable `num_classes` is assigned the number of unique classes in the dataset, which is determined by the length of the `classes_` attribute of the `LabelEncoder` object.\n",
    "\n",
    "The `to_categorical()` function is then used to convert the encoded class labels into one-hot encoded categorical arrays. This transformation is necessary for multi-class classification tasks, where each class label is represented as a binary vector with a 1 in the position corresponding to the class index and 0s elsewhere."
   ]
  },
  {
   "cell_type": "code",
   "execution_count": 42,
   "id": "d516a385",
   "metadata": {
    "execution": {
     "iopub.execute_input": "2024-04-16T14:23:02.098334Z",
     "iopub.status.busy": "2024-04-16T14:23:02.098057Z",
     "iopub.status.idle": "2024-04-16T14:23:02.103524Z",
     "shell.execute_reply": "2024-04-16T14:23:02.102844Z"
    },
    "id": "Pccke-XUjVeQ",
    "papermill": {
     "duration": 0.02,
     "end_time": "2024-04-16T14:23:02.105384",
     "exception": false,
     "start_time": "2024-04-16T14:23:02.085384",
     "status": "completed"
    },
    "tags": []
   },
   "outputs": [],
   "source": [
    "# Get the number of classes\n",
    "num_classes = len(label_encoder.classes_)\n",
    "\n",
    "# Convert encoded class labels to one-hot encoded categorical arrays\n",
    "y_train_categorical = to_categorical(y_train, num_classes=num_classes)\n",
    "y_val_categorical = to_categorical(y_val, num_classes=num_classes)\n",
    "y_test_categorical = to_categorical(y_test, num_classes=num_classes)"
   ]
  },
  {
   "cell_type": "markdown",
   "id": "18011892",
   "metadata": {
    "id": "nwv0iuDjGeHw",
    "papermill": {
     "duration": 0.013063,
     "end_time": "2024-04-16T14:23:02.131573",
     "exception": false,
     "start_time": "2024-04-16T14:23:02.118510",
     "status": "completed"
    },
    "tags": []
   },
   "source": [
    "The `build_model` function defines the architecture of the convolutional neural network (CNN) for facial expression recognition.\n",
    "\n",
    "- **1st Layer**: Convolutional layer with 64 filters of size (5, 5), ReLU activation, and batch normalization. MaxPooling and Dropout layers are added for regularization.\n",
    "\n",
    "- **2nd Layer**: Convolutional layer with 128 filters of size (3, 3), ReLU activation, and batch normalization. MaxPooling and Dropout layers are added for regularization.\n",
    "\n",
    "- **3rd Layer**: Convolutional layer with 512 filters of size (3, 3), ReLU activation, and batch normalization. MaxPooling and Dropout layers are added for regularization.\n",
    "\n",
    "- **4th Layer**: Convolutional layer with 512 filters of size (3, 3), ReLU activation, and batch normalization. MaxPooling and Dropout layers are added for regularization.\n",
    "\n",
    "- **Flatten Layer**: Flatten the output from the convolutional layers to be fed into the fully connected layers.\n",
    "\n",
    "- **Fully Connected Layer 1**: Dense layer with 256 units and ReLU activation, followed by batch normalization and dropout for regularization.\n",
    "\n",
    "- **Fully Connected Layer 2**: Dense layer with 512 units and ReLU activation, followed by batch normalization and dropout for regularization.\n",
    "\n",
    "- **Output Layer**: Dense layer with softmax activation for multi-class classification, with the number of units equal to the number of classes in the dataset.\n",
    "\n",
    "- **Compilation**: The model is compiled with the Adam optimizer, categorical cross-entropy loss function, and accuracy metric."
   ]
  },
  {
   "cell_type": "code",
   "execution_count": 43,
   "id": "42fba5b5",
   "metadata": {
    "execution": {
     "iopub.execute_input": "2024-04-16T14:23:02.157658Z",
     "iopub.status.busy": "2024-04-16T14:23:02.157092Z",
     "iopub.status.idle": "2024-04-16T14:23:02.168823Z",
     "shell.execute_reply": "2024-04-16T14:23:02.168036Z"
    },
    "id": "ebDumsoOjZJC",
    "papermill": {
     "duration": 0.026528,
     "end_time": "2024-04-16T14:23:02.170664",
     "exception": false,
     "start_time": "2024-04-16T14:23:02.144136",
     "status": "completed"
    },
    "tags": []
   },
   "outputs": [],
   "source": [
    "# Building Model\n",
    "def build_model():\n",
    "    model = Sequential()\n",
    "    # 1st Layer\n",
    "    model.add(Conv2D(64, (5, 5), strides=(1, 1), padding='same', activation='relu', input_shape=(48, 48, 1)))\n",
    "    model.add(BatchNormalization())\n",
    "    model.add(MaxPooling2D(2, 2))\n",
    "    model.add(Dropout(0.4))\n",
    "\n",
    "    # 2nd Layer\n",
    "    model.add(Conv2D(128, (3, 3), strides=(1, 1), padding='same', activation='relu'))\n",
    "    model.add(BatchNormalization())\n",
    "    model.add(MaxPooling2D(2, 2))\n",
    "    model.add(Dropout(0.4))\n",
    "\n",
    "    # 3rd layer\n",
    "    model.add(Conv2D(512, (3, 3), strides=(1, 1), padding='same', activation='relu'))\n",
    "    model.add(BatchNormalization())\n",
    "    model.add(MaxPooling2D(2, 2))\n",
    "    model.add(Dropout(0.4))\n",
    "\n",
    "    # 4th layer\n",
    "    model.add(Conv2D(512, (3, 3), strides=(1, 1), padding='same', activation='relu'))\n",
    "    model.add(BatchNormalization())\n",
    "    model.add(MaxPooling2D(2, 2))\n",
    "    model.add(Dropout(0.4))\n",
    "\n",
    "    # Flatten Layer\n",
    "    model.add(Flatten())\n",
    "\n",
    "    # Fully connected layer 1\n",
    "    model.add(Dense(256, activation='relu'))\n",
    "    model.add(BatchNormalization())\n",
    "    model.add(Dropout(0.4))\n",
    "\n",
    "    # Fully connected layer 2\n",
    "    model.add(Dense(512, activation='relu'))\n",
    "    model.add(BatchNormalization())\n",
    "    model.add(Dropout(0.4))\n",
    "\n",
    "    # Output layer\n",
    "    model.add(Dense(num_classes, activation='softmax'))\n",
    "\n",
    "    return model"
   ]
  },
  {
   "cell_type": "markdown",
   "id": "e5028121",
   "metadata": {
    "id": "I3CiJpP4GvHS",
    "papermill": {
     "duration": 0.011894,
     "end_time": "2024-04-16T14:23:02.194571",
     "exception": false,
     "start_time": "2024-04-16T14:23:02.182677",
     "status": "completed"
    },
    "tags": []
   },
   "source": [
    "The `summary()` method is called on the built model to display a summary of its architecture, including the layers, output shapes, and the number of trainable parameters."
   ]
  },
  {
   "cell_type": "code",
   "execution_count": 44,
   "id": "8ef7f5fc",
   "metadata": {
    "execution": {
     "iopub.execute_input": "2024-04-16T14:23:02.219937Z",
     "iopub.status.busy": "2024-04-16T14:23:02.219702Z",
     "iopub.status.idle": "2024-04-16T14:23:03.594892Z",
     "shell.execute_reply": "2024-04-16T14:23:03.594049Z"
    },
    "id": "St5xjbyDjjGq",
    "outputId": "07d1de3b-433f-46d9-da1c-4059271ff085",
    "papermill": {
     "duration": 1.390941,
     "end_time": "2024-04-16T14:23:03.597755",
     "exception": false,
     "start_time": "2024-04-16T14:23:02.206814",
     "status": "completed"
    },
    "tags": []
   },
   "outputs": [
    {
     "name": "stdout",
     "output_type": "stream",
     "text": [
      "Model: \"sequential_1\"\n",
      "_________________________________________________________________\n",
      " Layer (type)                Output Shape              Param #   \n",
      "=================================================================\n",
      " conv2d_4 (Conv2D)           (None, 48, 48, 64)        1664      \n",
      "                                                                 \n",
      " batch_normalization_6 (Bat  (None, 48, 48, 64)        256       \n",
      " chNormalization)                                                \n",
      "                                                                 \n",
      " max_pooling2d_4 (MaxPoolin  (None, 24, 24, 64)        0         \n",
      " g2D)                                                            \n",
      "                                                                 \n",
      " dropout_6 (Dropout)         (None, 24, 24, 64)        0         \n",
      "                                                                 \n",
      " conv2d_5 (Conv2D)           (None, 24, 24, 128)       73856     \n",
      "                                                                 \n",
      " batch_normalization_7 (Bat  (None, 24, 24, 128)       512       \n",
      " chNormalization)                                                \n",
      "                                                                 \n",
      " max_pooling2d_5 (MaxPoolin  (None, 12, 12, 128)       0         \n",
      " g2D)                                                            \n",
      "                                                                 \n",
      " dropout_7 (Dropout)         (None, 12, 12, 128)       0         \n",
      "                                                                 \n",
      " conv2d_6 (Conv2D)           (None, 12, 12, 512)       590336    \n",
      "                                                                 \n",
      " batch_normalization_8 (Bat  (None, 12, 12, 512)       2048      \n",
      " chNormalization)                                                \n",
      "                                                                 \n",
      " max_pooling2d_6 (MaxPoolin  (None, 6, 6, 512)         0         \n",
      " g2D)                                                            \n",
      "                                                                 \n",
      " dropout_8 (Dropout)         (None, 6, 6, 512)         0         \n",
      "                                                                 \n",
      " conv2d_7 (Conv2D)           (None, 6, 6, 512)         2359808   \n",
      "                                                                 \n",
      " batch_normalization_9 (Bat  (None, 6, 6, 512)         2048      \n",
      " chNormalization)                                                \n",
      "                                                                 \n",
      " max_pooling2d_7 (MaxPoolin  (None, 3, 3, 512)         0         \n",
      " g2D)                                                            \n",
      "                                                                 \n",
      " dropout_9 (Dropout)         (None, 3, 3, 512)         0         \n",
      "                                                                 \n",
      " flatten_1 (Flatten)         (None, 4608)              0         \n",
      "                                                                 \n",
      " dense_3 (Dense)             (None, 256)               1179904   \n",
      "                                                                 \n",
      " batch_normalization_10 (Ba  (None, 256)               1024      \n",
      " tchNormalization)                                               \n",
      "                                                                 \n",
      " dropout_10 (Dropout)        (None, 256)               0         \n",
      "                                                                 \n",
      " dense_4 (Dense)             (None, 512)               131584    \n",
      "                                                                 \n",
      " batch_normalization_11 (Ba  (None, 512)               2048      \n",
      " tchNormalization)                                               \n",
      "                                                                 \n",
      " dropout_11 (Dropout)        (None, 512)               0         \n",
      "                                                                 \n",
      " dense_5 (Dense)             (None, 7)                 3591      \n",
      "                                                                 \n",
      "=================================================================\n",
      "Total params: 4348679 (16.59 MB)\n",
      "Trainable params: 4344711 (16.57 MB)\n",
      "Non-trainable params: 3968 (15.50 KB)\n",
      "_________________________________________________________________\n",
      "None\n"
     ]
    }
   ],
   "source": [
    "# Build the model\n",
    "model = build_model()\n",
    "\n",
    "# Print model summary\n",
    "print(model.summary())"
   ]
  },
  {
   "cell_type": "markdown",
   "id": "7d7a2d33",
   "metadata": {
    "id": "wLTQrJYkG_Tg",
    "papermill": {
     "duration": 0.013004,
     "end_time": "2024-04-16T14:23:03.624464",
     "exception": false,
     "start_time": "2024-04-16T14:23:03.611460",
     "status": "completed"
    },
    "tags": []
   },
   "source": [
    "The `ModelCheckpoint` callback is initialized to save the model weights during training. It monitors the validation accuracy (`val_acc`) and saves only the best model (determined by the maximum validation accuracy) to the specified file `\"model.h5\"`."
   ]
  },
  {
   "cell_type": "code",
   "execution_count": 45,
   "id": "e5983664",
   "metadata": {
    "execution": {
     "iopub.execute_input": "2024-04-16T14:23:03.651834Z",
     "iopub.status.busy": "2024-04-16T14:23:03.651567Z",
     "iopub.status.idle": "2024-04-16T14:23:03.655897Z",
     "shell.execute_reply": "2024-04-16T14:23:03.655028Z"
    },
    "id": "M-smbpQKkVV7",
    "papermill": {
     "duration": 0.020313,
     "end_time": "2024-04-16T14:23:03.657822",
     "exception": false,
     "start_time": "2024-04-16T14:23:03.637509",
     "status": "completed"
    },
    "tags": []
   },
   "outputs": [],
   "source": [
    "# Initialize ModelCheckpoint callback\n",
    "checkpoint = ModelCheckpoint(\"model.h5\", monitor=\"val_accuracy\", verbose=1, save_best_only=True)\n",
    "# Initialize ModelCheckpoint callback\n",
    "# checkpoint = ModelCheckpoint(\"model.keras\", monitor=\"val_accuracy\", verbose=1, save_best_only=True)"
   ]
  },
  {
   "cell_type": "markdown",
   "id": "4ea1cd27",
   "metadata": {
    "id": "oBiZw1EpHkFv",
    "papermill": {
     "duration": 0.012774,
     "end_time": "2024-04-16T14:23:03.683770",
     "exception": false,
     "start_time": "2024-04-16T14:23:03.670996",
     "status": "completed"
    },
    "tags": []
   },
   "source": [
    "The `EarlyStopping` callback is initialized to monitor the validation loss (`val_loss`). It stops the training process if the validation loss does not improve for a certain number of epochs (`patience`) specified by the user. The training is stopped early to prevent overfitting, and the weights of the best performing model are restored (`restore_best_weights=True`)."
   ]
  },
  {
   "cell_type": "code",
   "execution_count": 46,
   "id": "07970f7b",
   "metadata": {
    "execution": {
     "iopub.execute_input": "2024-04-16T14:23:03.710851Z",
     "iopub.status.busy": "2024-04-16T14:23:03.710579Z",
     "iopub.status.idle": "2024-04-16T14:23:03.714763Z",
     "shell.execute_reply": "2024-04-16T14:23:03.713956Z"
    },
    "id": "zuArFO2GkbKM",
    "papermill": {
     "duration": 0.019975,
     "end_time": "2024-04-16T14:23:03.716657",
     "exception": false,
     "start_time": "2024-04-16T14:23:03.696682",
     "status": "completed"
    },
    "tags": []
   },
   "outputs": [],
   "source": [
    "# Initialize EarlyStopping callback\n",
    "early_stopping = EarlyStopping(\n",
    "    monitor='val_loss',\n",
    "    min_delta=0,\n",
    "    patience=5,\n",
    "    verbose=1,\n",
    "    restore_best_weights=True\n",
    ")"
   ]
  },
  {
   "cell_type": "markdown",
   "id": "05bd7bc6",
   "metadata": {
    "id": "RTAehL6DHvym",
    "papermill": {
     "duration": 0.0129,
     "end_time": "2024-04-16T14:23:03.742757",
     "exception": false,
     "start_time": "2024-04-16T14:23:03.729857",
     "status": "completed"
    },
    "tags": []
   },
   "source": [
    "The `ReduceLROnPlateau` callback is initialized to dynamically adjust the learning rate during training based on the validation loss (`val_loss`). If the validation loss does not improve for a certain number of epochs (`patience`), the learning rate is reduced by a factor specified by the user (`factor`). This helps improve the training process and prevent the model from getting stuck in local minima."
   ]
  },
  {
   "cell_type": "code",
   "execution_count": 47,
   "id": "bc91bf46",
   "metadata": {
    "execution": {
     "iopub.execute_input": "2024-04-16T14:23:03.770000Z",
     "iopub.status.busy": "2024-04-16T14:23:03.769741Z",
     "iopub.status.idle": "2024-04-16T14:23:03.773849Z",
     "shell.execute_reply": "2024-04-16T14:23:03.773025Z"
    },
    "id": "FcWqpIDfkdkh",
    "papermill": {
     "duration": 0.01988,
     "end_time": "2024-04-16T14:23:03.775714",
     "exception": false,
     "start_time": "2024-04-16T14:23:03.755834",
     "status": "completed"
    },
    "tags": []
   },
   "outputs": [],
   "source": [
    "# Initialize ReduceLROnPlateau callback\n",
    "reduce_learningrate = ReduceLROnPlateau(\n",
    "    monitor='val_loss',\n",
    "    factor=0.2,\n",
    "    patience=3,\n",
    "    verbose=1,\n",
    "    min_delta=0.0001\n",
    ")"
   ]
  },
  {
   "cell_type": "markdown",
   "id": "d8569934",
   "metadata": {
    "id": "tJwx_MScH6Vh",
    "papermill": {
     "duration": 0.01316,
     "end_time": "2024-04-16T14:23:03.802206",
     "exception": false,
     "start_time": "2024-04-16T14:23:03.789046",
     "status": "completed"
    },
    "tags": []
   },
   "source": [
    "The `callbacks_list` is a list containing the callbacks to be used during the training of the model. It includes the `EarlyStopping`, `ModelCheckpoint`, and `ReduceLROnPlateau` callbacks, which are used to monitor the validation loss, save the best model, and adjust the learning rate, respectively.\n"
   ]
  },
  {
   "cell_type": "code",
   "execution_count": 48,
   "id": "f9cc1aa9",
   "metadata": {
    "execution": {
     "iopub.execute_input": "2024-04-16T14:23:03.830595Z",
     "iopub.status.busy": "2024-04-16T14:23:03.830330Z",
     "iopub.status.idle": "2024-04-16T14:23:03.834146Z",
     "shell.execute_reply": "2024-04-16T14:23:03.833326Z"
    },
    "id": "hkFIZipIkgA_",
    "papermill": {
     "duration": 0.020489,
     "end_time": "2024-04-16T14:23:03.835979",
     "exception": false,
     "start_time": "2024-04-16T14:23:03.815490",
     "status": "completed"
    },
    "tags": []
   },
   "outputs": [],
   "source": [
    "# List of callbacks\n",
    "callbacks_list = [early_stopping, checkpoint, reduce_learningrate]"
   ]
  },
  {
   "cell_type": "markdown",
   "id": "9a5d0d13",
   "metadata": {
    "id": "22-FfpcpIJX8",
    "papermill": {
     "duration": 0.013027,
     "end_time": "2024-04-16T14:23:03.862100",
     "exception": false,
     "start_time": "2024-04-16T14:23:03.849073",
     "status": "completed"
    },
    "tags": []
   },
   "source": [
    "The `compile()` method is called on the model to configure the training process. It specifies the loss function, optimizer, and evaluation metrics to be used during training.\n",
    "\n",
    "- **Loss Function**: Categorical cross-entropy is used as the loss function for multi-class classification problems.\n",
    "- **Optimizer**: Adam optimizer is chosen with a learning rate of 0.001.\n",
    "- **Metrics**: Accuracy is used as the evaluation metric to monitor the performance of the model during training."
   ]
  },
  {
   "cell_type": "code",
   "execution_count": 49,
   "id": "39319d4a",
   "metadata": {
    "execution": {
     "iopub.execute_input": "2024-04-16T14:23:03.889603Z",
     "iopub.status.busy": "2024-04-16T14:23:03.889340Z",
     "iopub.status.idle": "2024-04-16T14:23:03.896962Z",
     "shell.execute_reply": "2024-04-16T14:23:03.896259Z"
    },
    "id": "_DgH_tueki6T",
    "papermill": {
     "duration": 0.023398,
     "end_time": "2024-04-16T14:23:03.898806",
     "exception": false,
     "start_time": "2024-04-16T14:23:03.875408",
     "status": "completed"
    },
    "tags": []
   },
   "outputs": [],
   "source": [
    "# Compile the model\n",
    "model.compile(\n",
    "    loss='categorical_crossentropy',\n",
    "    optimizer='adam',\n",
    "    metrics=['accuracy']\n",
    ")"
   ]
  },
  {
   "cell_type": "markdown",
   "id": "af7413da",
   "metadata": {
    "id": "WacGYPD5IlBk",
    "papermill": {
     "duration": 0.015655,
     "end_time": "2024-04-16T14:23:03.928966",
     "exception": false,
     "start_time": "2024-04-16T14:23:03.913311",
     "status": "completed"
    },
    "tags": []
   },
   "source": [
    "The `fit()` method is called on the model to train it on the training data. It takes the following parameters:\n",
    "\n",
    "- `data_gen.flow(X_train, y_train_categorical, batch_size=128)`: A generator that yields batches of augmented training data. Data augmentation is applied on-the-fly using the `ImageDataGenerator` object defined earlier.\n",
    "- `validation_data=(X_val, y_val_categorical)`: Validation data to evaluate the model's performance after each epoch.\n",
    "- `epochs=64`: The number of epochs to train the model.\n",
    "- `verbose=1`: Specifies the verbosity mode. Here, it prints progress bars during training."
   ]
  },
  {
   "cell_type": "code",
   "execution_count": 51,
   "id": "c0169029",
   "metadata": {
    "execution": {
     "iopub.execute_input": "2024-04-16T14:23:03.959969Z",
     "iopub.status.busy": "2024-04-16T14:23:03.959710Z",
     "iopub.status.idle": "2024-04-16T14:34:14.022822Z",
     "shell.execute_reply": "2024-04-16T14:34:14.021687Z"
    },
    "id": "5kzrbdyx_UqG",
    "papermill": {
     "duration": 670.080244,
     "end_time": "2024-04-16T14:34:14.025165",
     "exception": false,
     "start_time": "2024-04-16T14:23:03.944921",
     "status": "completed"
    },
    "tags": []
   },
   "outputs": [
    {
     "name": "stdout",
     "output_type": "stream",
     "text": [
      "Epoch 1/64\n"
     ]
    },
    {
     "name": "stderr",
     "output_type": "stream",
     "text": [
      "2024-05-30 17:51:39.037131: E tensorflow/core/grappler/optimizers/meta_optimizer.cc:961] layout failed: INVALID_ARGUMENT: Size of values 0 does not match size of permutation 4 @ fanin shape insequential_1/dropout_6/dropout/SelectV2-2-TransposeNHWCToNCHW-LayoutOptimizer\n"
     ]
    },
    {
     "name": "stdout",
     "output_type": "stream",
     "text": [
      "122/290 [===========>..................] - ETA: 13s - loss: 2.3864 - accuracy: 0.1905"
     ]
    },
    {
     "name": "stderr",
     "output_type": "stream",
     "text": [
      "2024-05-30 17:51:51.382331: W external/local_tsl/tsl/framework/bfc_allocator.cc:296] Allocator (GPU_0_bfc) ran out of memory trying to allocate 1.29GiB with freed_by_count=0. The caller indicates that this is not a failure, but this may mean that there could be performance gains if more memory were available.\n",
      "2024-05-30 17:51:51.497533: W external/local_tsl/tsl/framework/bfc_allocator.cc:296] Allocator (GPU_0_bfc) ran out of memory trying to allocate 1.29GiB with freed_by_count=0. The caller indicates that this is not a failure, but this may mean that there could be performance gains if more memory were available.\n"
     ]
    },
    {
     "name": "stdout",
     "output_type": "stream",
     "text": [
      "290/290 [==============================] - ETA: 0s - loss: 2.1620 - accuracy: 0.2148\n",
      "Epoch 1: val_accuracy improved from -inf to 0.14449, saving model to model.h5\n",
      "290/290 [==============================] - 32s 98ms/step - loss: 2.1620 - accuracy: 0.2148 - val_loss: 3.7012 - val_accuracy: 0.1445 - lr: 0.0010\n",
      "Epoch 2/64\n"
     ]
    },
    {
     "name": "stderr",
     "output_type": "stream",
     "text": [
      "/home/marcus/conda/envs/tf/lib/python3.9/site-packages/keras/src/engine/training.py:3103: UserWarning: You are saving your model as an HDF5 file via `model.save()`. This file format is considered legacy. We recommend using instead the native Keras format, e.g. `model.save('my_model.keras')`.\n",
      "  saving_api.save_model(\n"
     ]
    },
    {
     "name": "stdout",
     "output_type": "stream",
     "text": [
      "290/290 [==============================] - ETA: 0s - loss: 1.8020 - accuracy: 0.2922\n",
      "Epoch 2: val_accuracy improved from 0.14449 to 0.18445, saving model to model.h5\n",
      "290/290 [==============================] - 26s 88ms/step - loss: 1.8020 - accuracy: 0.2922 - val_loss: 2.7456 - val_accuracy: 0.1844 - lr: 0.0010\n",
      "Epoch 3/64\n",
      "290/290 [==============================] - ETA: 0s - loss: 1.6455 - accuracy: 0.3591\n",
      "Epoch 3: val_accuracy improved from 0.18445 to 0.40356, saving model to model.h5\n",
      "290/290 [==============================] - 26s 88ms/step - loss: 1.6455 - accuracy: 0.3591 - val_loss: 1.5437 - val_accuracy: 0.4036 - lr: 0.0010\n",
      "Epoch 4/64\n",
      "290/290 [==============================] - ETA: 0s - loss: 1.5538 - accuracy: 0.3959\n",
      "Epoch 4: val_accuracy improved from 0.40356 to 0.45054, saving model to model.h5\n",
      "290/290 [==============================] - 26s 89ms/step - loss: 1.5538 - accuracy: 0.3959 - val_loss: 1.4423 - val_accuracy: 0.4505 - lr: 0.0010\n",
      "Epoch 5/64\n",
      "290/290 [==============================] - ETA: 0s - loss: 1.4753 - accuracy: 0.4275\n",
      "Epoch 5: val_accuracy improved from 0.45054 to 0.47570, saving model to model.h5\n",
      "290/290 [==============================] - 26s 89ms/step - loss: 1.4753 - accuracy: 0.4275 - val_loss: 1.3792 - val_accuracy: 0.4757 - lr: 0.0010\n",
      "Epoch 6/64\n",
      "290/290 [==============================] - ETA: 0s - loss: 1.4150 - accuracy: 0.4574\n",
      "Epoch 6: val_accuracy improved from 0.47570 to 0.52711, saving model to model.h5\n",
      "290/290 [==============================] - 26s 88ms/step - loss: 1.4150 - accuracy: 0.4574 - val_loss: 1.2332 - val_accuracy: 0.5271 - lr: 0.0010\n",
      "Epoch 7/64\n",
      "290/290 [==============================] - ETA: 0s - loss: 1.3690 - accuracy: 0.4744\n",
      "Epoch 7: val_accuracy did not improve from 0.52711\n",
      "290/290 [==============================] - 26s 88ms/step - loss: 1.3690 - accuracy: 0.4744 - val_loss: 1.2521 - val_accuracy: 0.5257 - lr: 0.0010\n",
      "Epoch 8/64\n",
      "290/290 [==============================] - ETA: 0s - loss: 1.3408 - accuracy: 0.4887\n",
      "Epoch 8: val_accuracy improved from 0.52711 to 0.54374, saving model to model.h5\n",
      "290/290 [==============================] - 26s 89ms/step - loss: 1.3408 - accuracy: 0.4887 - val_loss: 1.1822 - val_accuracy: 0.5437 - lr: 0.0010\n",
      "Epoch 9/64\n",
      "290/290 [==============================] - ETA: 0s - loss: 1.3148 - accuracy: 0.4988\n",
      "Epoch 9: val_accuracy improved from 0.54374 to 0.56469, saving model to model.h5\n",
      "290/290 [==============================] - 26s 89ms/step - loss: 1.3148 - accuracy: 0.4988 - val_loss: 1.1405 - val_accuracy: 0.5647 - lr: 0.0010\n",
      "Epoch 10/64\n",
      "290/290 [==============================] - ETA: 0s - loss: 1.2912 - accuracy: 0.5076\n",
      "Epoch 10: val_accuracy improved from 0.56469 to 0.58078, saving model to model.h5\n",
      "290/290 [==============================] - 26s 88ms/step - loss: 1.2912 - accuracy: 0.5076 - val_loss: 1.1166 - val_accuracy: 0.5808 - lr: 0.0010\n",
      "Epoch 11/64\n",
      "290/290 [==============================] - ETA: 0s - loss: 1.2621 - accuracy: 0.5213\n",
      "Epoch 11: val_accuracy did not improve from 0.58078\n",
      "290/290 [==============================] - 25s 88ms/step - loss: 1.2621 - accuracy: 0.5213 - val_loss: 1.1788 - val_accuracy: 0.5376 - lr: 0.0010\n",
      "Epoch 12/64\n",
      "290/290 [==============================] - ETA: 0s - loss: 1.2384 - accuracy: 0.5300\n",
      "Epoch 12: val_accuracy improved from 0.58078 to 0.59136, saving model to model.h5\n",
      "290/290 [==============================] - 25s 88ms/step - loss: 1.2384 - accuracy: 0.5300 - val_loss: 1.0874 - val_accuracy: 0.5914 - lr: 0.0010\n",
      "Epoch 13/64\n",
      "290/290 [==============================] - ETA: 0s - loss: 1.2246 - accuracy: 0.5339\n",
      "Epoch 13: val_accuracy improved from 0.59136 to 0.59233, saving model to model.h5\n",
      "290/290 [==============================] - 25s 88ms/step - loss: 1.2246 - accuracy: 0.5339 - val_loss: 1.0740 - val_accuracy: 0.5923 - lr: 0.0010\n",
      "Epoch 14/64\n",
      "290/290 [==============================] - ETA: 0s - loss: 1.2060 - accuracy: 0.5397\n",
      "Epoch 14: val_accuracy did not improve from 0.59233\n",
      "290/290 [==============================] - 25s 87ms/step - loss: 1.2060 - accuracy: 0.5397 - val_loss: 1.1511 - val_accuracy: 0.5546 - lr: 0.0010\n",
      "Epoch 15/64\n",
      "290/290 [==============================] - ETA: 0s - loss: 1.1922 - accuracy: 0.5482\n",
      "Epoch 15: val_accuracy improved from 0.59233 to 0.60551, saving model to model.h5\n",
      "290/290 [==============================] - 26s 88ms/step - loss: 1.1922 - accuracy: 0.5482 - val_loss: 1.0424 - val_accuracy: 0.6055 - lr: 0.0010\n",
      "Epoch 16/64\n",
      "290/290 [==============================] - ETA: 0s - loss: 1.1769 - accuracy: 0.5504\n",
      "Epoch 16: val_accuracy did not improve from 0.60551\n",
      "290/290 [==============================] - 25s 87ms/step - loss: 1.1769 - accuracy: 0.5504 - val_loss: 1.0561 - val_accuracy: 0.5981 - lr: 0.0010\n",
      "Epoch 17/64\n",
      "290/290 [==============================] - ETA: 0s - loss: 1.1690 - accuracy: 0.5570\n",
      "Epoch 17: val_accuracy improved from 0.60551 to 0.61307, saving model to model.h5\n",
      "290/290 [==============================] - 26s 89ms/step - loss: 1.1690 - accuracy: 0.5570 - val_loss: 1.0193 - val_accuracy: 0.6131 - lr: 0.0010\n",
      "Epoch 18/64\n",
      "290/290 [==============================] - ETA: 0s - loss: 1.1544 - accuracy: 0.5622\n",
      "Epoch 18: val_accuracy did not improve from 0.61307\n",
      "290/290 [==============================] - 25s 87ms/step - loss: 1.1544 - accuracy: 0.5622 - val_loss: 1.0379 - val_accuracy: 0.6035 - lr: 0.0010\n",
      "Epoch 19/64\n",
      "290/290 [==============================] - ETA: 0s - loss: 1.1431 - accuracy: 0.5680\n",
      "Epoch 19: val_accuracy improved from 0.61307 to 0.62819, saving model to model.h5\n",
      "290/290 [==============================] - 25s 87ms/step - loss: 1.1431 - accuracy: 0.5680 - val_loss: 0.9732 - val_accuracy: 0.6282 - lr: 0.0010\n",
      "Epoch 20/64\n",
      "290/290 [==============================] - ETA: 0s - loss: 1.1282 - accuracy: 0.5716\n",
      "Epoch 20: val_accuracy improved from 0.62819 to 0.63380, saving model to model.h5\n",
      "290/290 [==============================] - 26s 89ms/step - loss: 1.1282 - accuracy: 0.5716 - val_loss: 0.9577 - val_accuracy: 0.6338 - lr: 0.0010\n",
      "Epoch 21/64\n",
      "290/290 [==============================] - ETA: 0s - loss: 1.1139 - accuracy: 0.5782\n",
      "Epoch 21: val_accuracy did not improve from 0.63380\n",
      "290/290 [==============================] - 26s 88ms/step - loss: 1.1139 - accuracy: 0.5782 - val_loss: 1.0351 - val_accuracy: 0.6081 - lr: 0.0010\n",
      "Epoch 22/64\n",
      "290/290 [==============================] - ETA: 0s - loss: 1.1164 - accuracy: 0.5756\n",
      "Epoch 22: val_accuracy did not improve from 0.63380\n",
      "290/290 [==============================] - 25s 86ms/step - loss: 1.1164 - accuracy: 0.5756 - val_loss: 0.9730 - val_accuracy: 0.6324 - lr: 0.0010\n",
      "Epoch 23/64\n",
      "290/290 [==============================] - ETA: 0s - loss: 1.1011 - accuracy: 0.5844\n",
      "Epoch 23: val_accuracy improved from 0.63380 to 0.63747, saving model to model.h5\n",
      "\n",
      "Epoch 23: ReduceLROnPlateau reducing learning rate to 0.00020000000949949026.\n",
      "290/290 [==============================] - 26s 89ms/step - loss: 1.1011 - accuracy: 0.5844 - val_loss: 0.9587 - val_accuracy: 0.6375 - lr: 0.0010\n",
      "Epoch 24/64\n",
      "290/290 [==============================] - ETA: 0s - loss: 1.0562 - accuracy: 0.6008\n",
      "Epoch 24: val_accuracy improved from 0.63747 to 0.65400, saving model to model.h5\n",
      "290/290 [==============================] - 26s 89ms/step - loss: 1.0562 - accuracy: 0.6008 - val_loss: 0.9152 - val_accuracy: 0.6540 - lr: 2.0000e-04\n",
      "Epoch 25/64\n",
      "290/290 [==============================] - ETA: 0s - loss: 1.0418 - accuracy: 0.6099\n",
      "Epoch 25: val_accuracy improved from 0.65400 to 0.67203, saving model to model.h5\n",
      "290/290 [==============================] - 26s 88ms/step - loss: 1.0418 - accuracy: 0.6099 - val_loss: 0.8855 - val_accuracy: 0.6720 - lr: 2.0000e-04\n",
      "Epoch 26/64\n",
      "290/290 [==============================] - ETA: 0s - loss: 1.0327 - accuracy: 0.6104\n",
      "Epoch 26: val_accuracy did not improve from 0.67203\n",
      "290/290 [==============================] - 25s 87ms/step - loss: 1.0327 - accuracy: 0.6104 - val_loss: 0.8850 - val_accuracy: 0.6645 - lr: 2.0000e-04\n",
      "Epoch 27/64\n",
      "290/290 [==============================] - ETA: 0s - loss: 1.0232 - accuracy: 0.6133\n",
      "Epoch 27: val_accuracy improved from 0.67203 to 0.67408, saving model to model.h5\n",
      "290/290 [==============================] - 26s 88ms/step - loss: 1.0232 - accuracy: 0.6133 - val_loss: 0.8655 - val_accuracy: 0.6741 - lr: 2.0000e-04\n",
      "Epoch 28/64\n",
      "290/290 [==============================] - ETA: 0s - loss: 1.0140 - accuracy: 0.6206\n",
      "Epoch 28: val_accuracy did not improve from 0.67408\n",
      "290/290 [==============================] - 25s 87ms/step - loss: 1.0140 - accuracy: 0.6206 - val_loss: 0.8801 - val_accuracy: 0.6658 - lr: 2.0000e-04\n",
      "Epoch 29/64\n",
      "290/290 [==============================] - ETA: 0s - loss: 1.0029 - accuracy: 0.6253\n",
      "Epoch 29: val_accuracy improved from 0.67408 to 0.68175, saving model to model.h5\n",
      "290/290 [==============================] - 25s 87ms/step - loss: 1.0029 - accuracy: 0.6253 - val_loss: 0.8482 - val_accuracy: 0.6817 - lr: 2.0000e-04\n",
      "Epoch 30/64\n",
      "290/290 [==============================] - ETA: 0s - loss: 0.9972 - accuracy: 0.6269\n",
      "Epoch 30: val_accuracy did not improve from 0.68175\n",
      "290/290 [==============================] - 25s 87ms/step - loss: 0.9972 - accuracy: 0.6269 - val_loss: 0.8528 - val_accuracy: 0.6813 - lr: 2.0000e-04\n",
      "Epoch 31/64\n",
      "290/290 [==============================] - ETA: 0s - loss: 0.9911 - accuracy: 0.6282\n",
      "Epoch 31: val_accuracy did not improve from 0.68175\n",
      "290/290 [==============================] - 26s 89ms/step - loss: 0.9911 - accuracy: 0.6282 - val_loss: 0.8540 - val_accuracy: 0.6776 - lr: 2.0000e-04\n",
      "Epoch 32/64\n",
      "290/290 [==============================] - ETA: 0s - loss: 0.9858 - accuracy: 0.6288\n",
      "Epoch 32: val_accuracy improved from 0.68175 to 0.68693, saving model to model.h5\n",
      "290/290 [==============================] - 25s 87ms/step - loss: 0.9858 - accuracy: 0.6288 - val_loss: 0.8424 - val_accuracy: 0.6869 - lr: 2.0000e-04\n",
      "Epoch 33/64\n",
      "290/290 [==============================] - ETA: 0s - loss: 0.9830 - accuracy: 0.6314\n",
      "Epoch 33: val_accuracy did not improve from 0.68693\n",
      "290/290 [==============================] - 25s 88ms/step - loss: 0.9830 - accuracy: 0.6314 - val_loss: 0.8590 - val_accuracy: 0.6798 - lr: 2.0000e-04\n",
      "Epoch 34/64\n",
      "290/290 [==============================] - ETA: 0s - loss: 0.9766 - accuracy: 0.6352\n",
      "Epoch 34: val_accuracy did not improve from 0.68693\n",
      "290/290 [==============================] - 25s 87ms/step - loss: 0.9766 - accuracy: 0.6352 - val_loss: 0.8475 - val_accuracy: 0.6833 - lr: 2.0000e-04\n",
      "Epoch 35/64\n",
      "290/290 [==============================] - ETA: 0s - loss: 0.9753 - accuracy: 0.6319\n",
      "Epoch 35: val_accuracy improved from 0.68693 to 0.69028, saving model to model.h5\n",
      "290/290 [==============================] - 26s 88ms/step - loss: 0.9753 - accuracy: 0.6319 - val_loss: 0.8320 - val_accuracy: 0.6903 - lr: 2.0000e-04\n",
      "Epoch 36/64\n",
      "290/290 [==============================] - ETA: 0s - loss: 0.9659 - accuracy: 0.6366\n",
      "Epoch 36: val_accuracy improved from 0.69028 to 0.69082, saving model to model.h5\n",
      "290/290 [==============================] - 26s 89ms/step - loss: 0.9659 - accuracy: 0.6366 - val_loss: 0.8358 - val_accuracy: 0.6908 - lr: 2.0000e-04\n",
      "Epoch 37/64\n",
      "290/290 [==============================] - ETA: 0s - loss: 0.9621 - accuracy: 0.6415\n",
      "Epoch 37: val_accuracy did not improve from 0.69082\n",
      "290/290 [==============================] - 25s 88ms/step - loss: 0.9621 - accuracy: 0.6415 - val_loss: 0.8355 - val_accuracy: 0.6851 - lr: 2.0000e-04\n",
      "Epoch 38/64\n",
      "290/290 [==============================] - ETA: 0s - loss: 0.9531 - accuracy: 0.6428\n",
      "Epoch 38: val_accuracy did not improve from 0.69082\n",
      "\n",
      "Epoch 38: ReduceLROnPlateau reducing learning rate to 4.0000001899898055e-05.\n",
      "290/290 [==============================] - 26s 88ms/step - loss: 0.9531 - accuracy: 0.6428 - val_loss: 0.8482 - val_accuracy: 0.6828 - lr: 2.0000e-04\n",
      "Epoch 39/64\n",
      "290/290 [==============================] - ETA: 0s - loss: 0.9515 - accuracy: 0.6454\n",
      "Epoch 39: val_accuracy improved from 0.69082 to 0.69449, saving model to model.h5\n",
      "290/290 [==============================] - 26s 89ms/step - loss: 0.9515 - accuracy: 0.6454 - val_loss: 0.8169 - val_accuracy: 0.6945 - lr: 4.0000e-05\n",
      "Epoch 40/64\n",
      "290/290 [==============================] - ETA: 0s - loss: 0.9412 - accuracy: 0.6474\n",
      "Epoch 40: val_accuracy did not improve from 0.69449\n",
      "290/290 [==============================] - 25s 87ms/step - loss: 0.9412 - accuracy: 0.6474 - val_loss: 0.8138 - val_accuracy: 0.6942 - lr: 4.0000e-05\n",
      "Epoch 41/64\n",
      "290/290 [==============================] - ETA: 0s - loss: 0.9438 - accuracy: 0.6444\n",
      "Epoch 41: val_accuracy improved from 0.69449 to 0.69773, saving model to model.h5\n",
      "290/290 [==============================] - 26s 89ms/step - loss: 0.9438 - accuracy: 0.6444 - val_loss: 0.8132 - val_accuracy: 0.6977 - lr: 4.0000e-05\n",
      "Epoch 42/64\n",
      "290/290 [==============================] - ETA: 0s - loss: 0.9322 - accuracy: 0.6502\n",
      "Epoch 42: val_accuracy did not improve from 0.69773\n",
      "290/290 [==============================] - 26s 88ms/step - loss: 0.9322 - accuracy: 0.6502 - val_loss: 0.8188 - val_accuracy: 0.6977 - lr: 4.0000e-05\n",
      "Epoch 43/64\n",
      "290/290 [==============================] - ETA: 0s - loss: 0.9345 - accuracy: 0.6493\n",
      "Epoch 43: val_accuracy did not improve from 0.69773\n",
      "290/290 [==============================] - 26s 88ms/step - loss: 0.9345 - accuracy: 0.6493 - val_loss: 0.8126 - val_accuracy: 0.6973 - lr: 4.0000e-05\n",
      "Epoch 44/64\n",
      "290/290 [==============================] - ETA: 0s - loss: 0.9368 - accuracy: 0.6510\n",
      "Epoch 44: val_accuracy did not improve from 0.69773\n",
      "290/290 [==============================] - 26s 88ms/step - loss: 0.9368 - accuracy: 0.6510 - val_loss: 0.8215 - val_accuracy: 0.6935 - lr: 4.0000e-05\n",
      "Epoch 45/64\n",
      "290/290 [==============================] - ETA: 0s - loss: 0.9381 - accuracy: 0.6485\n",
      "Epoch 45: val_accuracy improved from 0.69773 to 0.70054, saving model to model.h5\n",
      "290/290 [==============================] - 26s 89ms/step - loss: 0.9381 - accuracy: 0.6485 - val_loss: 0.8084 - val_accuracy: 0.7005 - lr: 4.0000e-05\n",
      "Epoch 46/64\n",
      "290/290 [==============================] - ETA: 0s - loss: 0.9364 - accuracy: 0.6495\n",
      "Epoch 46: val_accuracy improved from 0.70054 to 0.70076, saving model to model.h5\n",
      "290/290 [==============================] - 26s 89ms/step - loss: 0.9364 - accuracy: 0.6495 - val_loss: 0.8034 - val_accuracy: 0.7008 - lr: 4.0000e-05\n",
      "Epoch 47/64\n",
      "290/290 [==============================] - ETA: 0s - loss: 0.9293 - accuracy: 0.6536\n",
      "Epoch 47: val_accuracy did not improve from 0.70076\n",
      "290/290 [==============================] - 26s 88ms/step - loss: 0.9293 - accuracy: 0.6536 - val_loss: 0.8068 - val_accuracy: 0.6982 - lr: 4.0000e-05\n",
      "Epoch 48/64\n",
      "290/290 [==============================] - ETA: 0s - loss: 0.9288 - accuracy: 0.6523\n",
      "Epoch 48: val_accuracy did not improve from 0.70076\n",
      "290/290 [==============================] - 25s 88ms/step - loss: 0.9288 - accuracy: 0.6523 - val_loss: 0.8069 - val_accuracy: 0.6986 - lr: 4.0000e-05\n",
      "Epoch 49/64\n",
      "290/290 [==============================] - ETA: 0s - loss: 0.9280 - accuracy: 0.6514\n",
      "Epoch 49: val_accuracy did not improve from 0.70076\n",
      "\n",
      "Epoch 49: ReduceLROnPlateau reducing learning rate to 8.000000525498762e-06.\n",
      "290/290 [==============================] - 26s 89ms/step - loss: 0.9280 - accuracy: 0.6514 - val_loss: 0.8124 - val_accuracy: 0.6988 - lr: 4.0000e-05\n",
      "Epoch 50/64\n",
      "290/290 [==============================] - ETA: 0s - loss: 0.9315 - accuracy: 0.6532\n",
      "Epoch 50: val_accuracy did not improve from 0.70076\n",
      "290/290 [==============================] - 26s 89ms/step - loss: 0.9315 - accuracy: 0.6532 - val_loss: 0.8022 - val_accuracy: 0.7005 - lr: 8.0000e-06\n",
      "Epoch 51/64\n",
      "290/290 [==============================] - ETA: 0s - loss: 0.9283 - accuracy: 0.6541\n",
      "Epoch 51: val_accuracy improved from 0.70076 to 0.70130, saving model to model.h5\n",
      "290/290 [==============================] - 26s 89ms/step - loss: 0.9283 - accuracy: 0.6541 - val_loss: 0.8020 - val_accuracy: 0.7013 - lr: 8.0000e-06\n",
      "Epoch 52/64\n",
      "290/290 [==============================] - ETA: 0s - loss: 0.9283 - accuracy: 0.6539\n",
      "Epoch 52: val_accuracy did not improve from 0.70130\n",
      "290/290 [==============================] - 26s 89ms/step - loss: 0.9283 - accuracy: 0.6539 - val_loss: 0.8061 - val_accuracy: 0.6999 - lr: 8.0000e-06\n",
      "Epoch 53/64\n",
      "290/290 [==============================] - ETA: 0s - loss: 0.9282 - accuracy: 0.6507\n",
      "Epoch 53: val_accuracy did not improve from 0.70130\n",
      "290/290 [==============================] - 26s 89ms/step - loss: 0.9282 - accuracy: 0.6507 - val_loss: 0.8043 - val_accuracy: 0.7001 - lr: 8.0000e-06\n",
      "Epoch 54/64\n",
      "290/290 [==============================] - ETA: 0s - loss: 0.9261 - accuracy: 0.6517\n",
      "Epoch 54: val_accuracy did not improve from 0.70130\n",
      "\n",
      "Epoch 54: ReduceLROnPlateau reducing learning rate to 1.6000001778593287e-06.\n",
      "290/290 [==============================] - 26s 88ms/step - loss: 0.9261 - accuracy: 0.6517 - val_loss: 0.8021 - val_accuracy: 0.7008 - lr: 8.0000e-06\n",
      "Epoch 55/64\n",
      "290/290 [==============================] - ETA: 0s - loss: 0.9236 - accuracy: 0.6514\n",
      "Epoch 55: val_accuracy did not improve from 0.70130\n",
      "290/290 [==============================] - 26s 88ms/step - loss: 0.9236 - accuracy: 0.6514 - val_loss: 0.8037 - val_accuracy: 0.7005 - lr: 1.6000e-06\n",
      "Epoch 56/64\n",
      "290/290 [==============================] - ETA: 0s - loss: 0.9275 - accuracy: 0.6502Restoring model weights from the end of the best epoch: 51.\n",
      "\n",
      "Epoch 56: val_accuracy did not improve from 0.70130\n",
      "290/290 [==============================] - 26s 88ms/step - loss: 0.9275 - accuracy: 0.6502 - val_loss: 0.8037 - val_accuracy: 0.7013 - lr: 1.6000e-06\n",
      "Epoch 56: early stopping\n"
     ]
    }
   ],
   "source": [
    "# Training the model\n",
    "history = model.fit(\n",
    "    data_gen.flow(X_train, y_train_categorical, batch_size=128),\n",
    "    validation_data=(X_val, y_val_categorical),\n",
    "    epochs=64,\n",
    "    callbacks=callbacks_list\n",
    ")"
   ]
  },
  {
   "cell_type": "markdown",
   "id": "5c05d6f7",
   "metadata": {
    "id": "CUBFBK2qIxj4",
    "papermill": {
     "duration": 0.670947,
     "end_time": "2024-04-16T14:34:15.393214",
     "exception": false,
     "start_time": "2024-04-16T14:34:14.722267",
     "status": "completed"
    },
    "tags": []
   },
   "source": [
    "The trained model is saved to a file named `'modelv1.h5'` using the `save()` method. This file contains the model architecture, weights, and training configuration, allowing you to reload the model later for inference or further training."
   ]
  },
  {
   "cell_type": "code",
   "execution_count": null,
   "id": "975874ab",
   "metadata": {
    "execution": {
     "iopub.execute_input": "2024-04-16T14:34:18.423246Z",
     "iopub.status.busy": "2024-04-16T14:34:18.422888Z",
     "iopub.status.idle": "2024-04-16T14:34:18.551052Z",
     "shell.execute_reply": "2024-04-16T14:34:18.550072Z"
    },
    "id": "uF0F95fykoDV",
    "papermill": {
     "duration": 0.825703,
     "end_time": "2024-04-16T14:34:18.553342",
     "exception": false,
     "start_time": "2024-04-16T14:34:17.727639",
     "status": "completed"
    },
    "tags": []
   },
   "outputs": [],
   "source": [
    "# Saving the model with .h5 extension\n",
    "model.save('modelv1.h5')"
   ]
  },
  {
   "cell_type": "markdown",
   "id": "b5a11c9a",
   "metadata": {
    "id": "Es_-GrjvJRKq",
    "papermill": {
     "duration": 0.682448,
     "end_time": "2024-04-16T14:34:19.899648",
     "exception": false,
     "start_time": "2024-04-16T14:34:19.217200",
     "status": "completed"
    },
    "tags": []
   },
   "source": [
    "The code snippet plots the model accuracy over epochs during training and validation. It visualizes how the model's performance changes over time and helps identify overfitting or underfitting."
   ]
  },
  {
   "cell_type": "code",
   "execution_count": 52,
   "id": "9bbd7fea",
   "metadata": {
    "execution": {
     "iopub.execute_input": "2024-04-16T14:34:21.381300Z",
     "iopub.status.busy": "2024-04-16T14:34:21.380431Z",
     "iopub.status.idle": "2024-04-16T14:34:21.640870Z",
     "shell.execute_reply": "2024-04-16T14:34:21.640035Z"
    },
    "id": "SxmRSt_sxDve",
    "papermill": {
     "duration": 0.974436,
     "end_time": "2024-04-16T14:34:21.642823",
     "exception": false,
     "start_time": "2024-04-16T14:34:20.668387",
     "status": "completed"
    },
    "tags": []
   },
   "outputs": [
    {
     "data": {
      "image/png": "[encoded data removed]",
      "text/plain": [
       "<Figure size 640x480 with 1 Axes>"
      ]
     },
     "metadata": {},
     "output_type": "display_data"
    }
   ],
   "source": [
    "# Plotting model performance\n",
    "plt.plot(history.history['accuracy'], label='train_accuracy', marker='o')\n",
    "plt.plot(history.history['val_accuracy'], label='val_accuracy', marker='o')\n",
    "plt.title('Model Accuracy')\n",
    "plt.xlabel('Epochs')\n",
    "plt.ylabel('Accuracy')\n",
    "plt.legend()\n",
    "plt.show()"
   ]
  },
  {
   "cell_type": "code",
   "execution_count": 70,
   "id": "66dc5875",
   "metadata": {
    "papermill": {
     "duration": 0.779124,
     "end_time": "2024-04-16T14:34:23.084945",
     "exception": false,
     "start_time": "2024-04-16T14:34:22.305821",
     "status": "completed"
    },
    "tags": []
   },
   "outputs": [
    {
     "name": "stdout",
     "output_type": "stream",
     "text": [
      "362/362 [==============================] - 3s 8ms/step\n"
     ]
    },
    {
     "data": {
      "text/plain": [
       "array([[7.7013679e-02, 6.2659625e-03, 2.2835746e-01, ..., 1.7516254e-01,\n",
       "        4.7761238e-01, 6.4512733e-03],\n",
       "       [1.7164613e-03, 1.3317709e-05, 2.0452462e-02, ..., 1.3332929e-04,\n",
       "        2.0373763e-04, 9.0298784e-01],\n",
       "       [1.4811514e-01, 2.7758887e-01, 1.8473361e-01, ..., 9.2294335e-02,\n",
       "        2.6773509e-01, 6.9110198e-03],\n",
       "       ...,\n",
       "       [7.8583413e-01, 2.1699509e-03, 6.4049311e-02, ..., 5.7082079e-02,\n",
       "        4.2565748e-02, 1.1780936e-02],\n",
       "       [6.7536738e-03, 1.0645600e-04, 5.4753829e-02, ..., 4.6073413e-03,\n",
       "        2.9279687e-03, 9.2756289e-01],\n",
       "       [4.2492156e-05, 1.8081326e-07, 7.2388831e-03, ..., 1.8850808e-06,\n",
       "        1.2802539e-06, 9.9271166e-01]], dtype=float32)"
      ]
     },
     "execution_count": 70,
     "metadata": {},
     "output_type": "execute_result"
    }
   ],
   "source": [
    "Y_pred = model.predict(X_test)\n",
    "Y_pred"
   ]
  },
  {
   "cell_type": "code",
   "execution_count": 71,
   "metadata": {},
   "outputs": [
    {
     "data": {
      "text/plain": [
       "array([5, 6, 1, ..., 0, 6, 6])"
      ]
     },
     "execution_count": 71,
     "metadata": {},
     "output_type": "execute_result"
    }
   ],
   "source": [
    "y_pred = np.argmax(Y_pred, axis=1)\n",
    "y_pred"
   ]
  },
  {
   "cell_type": "code",
   "execution_count": 67,
   "id": "dcda4966",
   "metadata": {},
   "outputs": [
    {
     "data": {
      "text/plain": [
       "array([2, 6, 2, ..., 0, 6, 6])"
      ]
     },
     "execution_count": 67,
     "metadata": {},
     "output_type": "execute_result"
    }
   ],
   "source": [
    "y_test"
   ]
  },
  {
   "cell_type": "code",
   "execution_count": 79,
   "id": "db50fd71",
   "metadata": {},
   "outputs": [
    {
     "data": {
      "text/plain": [
       "<sklearn.metrics._plot.confusion_matrix.ConfusionMatrixDisplay at 0x7f95d1cd2a30>"
      ]
     },
     "execution_count": 79,
     "metadata": {},
     "output_type": "execute_result"
    },
    {
     "data": {
      "image/png": "[encoded data removed]",
      "text/plain": [
       "<Figure size 640x480 with 2 Axes>"
      ]
     },
     "metadata": {},
     "output_type": "display_data"
    }
   ],
   "source": [
    "# Create the confusion matrix\n",
    "cm = confusion_matrix(y_test, y_pred)\n",
    "\n",
    "# Plot the confusion matrix\n",
    "disp = ConfusionMatrixDisplay(\n",
    "    confusion_matrix=cm, display_labels=label_encoder.classes_)\n",
    "disp.plot(cmap=plt.cm.Blues)"
   ]
  }
 ],
 "metadata": {
  "accelerator": "TPU",
  "colab": {
   "gpuType": "V28",
   "provenance": []
  },
  "kaggle": {
   "accelerator": "nvidiaTeslaT4",
   "dataSources": [
    {
     "datasetId": 99505,
     "sourceId": 234911,
     "sourceType": "datasetVersion"
    }
   ],
   "dockerImageVersionId": 30673,
   "isGpuEnabled": true,
   "isInternetEnabled": true,
   "language": "python",
   "sourceType": "notebook"
  },
  "kernelspec": {
   "display_name": "Python 3",
   "language": "python",
   "name": "python3"
  },
  "language_info": {
   "codemirror_mode": {
    "name": "ipython",
    "version": 3
   },
   "file_extension": ".py",
   "mimetype": "text/x-python",
   "name": "python",
   "nbconvert_exporter": "python",
   "pygments_lexer": "ipython3",
   "version": "3.9.19"
  },
  "papermill": {
   "default_parameters": {},
   "duration": 881.013189,
   "end_time": "2024-04-16T14:34:26.658074",
   "environment_variables": {},
   "exception": null,
   "input_path": "__notebook__.ipynb",
   "output_path": "__notebook__.ipynb",
   "parameters": {},
   "start_time": "2024-04-16T14:19:45.644885",
   "version": "2.5.0"
  }
 },
 "nbformat": 4,
 "nbformat_minor": 5
}
